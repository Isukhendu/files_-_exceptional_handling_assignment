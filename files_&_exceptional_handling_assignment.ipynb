{
  "nbformat": 4,
  "nbformat_minor": 0,
  "metadata": {
    "colab": {
      "provenance": []
    },
    "kernelspec": {
      "name": "python3",
      "display_name": "Python 3"
    },
    "language_info": {
      "name": "python"
    }
  },
  "cells": [
    {
      "cell_type": "markdown",
      "source": [
        "# **Files, exceptional handling, logging and memory management Questions**\n"
      ],
      "metadata": {
        "id": "HpaxcSifQA7a"
      }
    },
    {
      "cell_type": "markdown",
      "source": [
        "**1. What is the difference between interpreted and compiled languages?**\n",
        "- Interpreted and compiled languages are two categories of programming languages that differ primarily in how they execute code.\n",
        "- **Interpreted Languages**: These languages execute code line-by-line at runtime. An interpreter reads the source code, translates it into machine code, and executes it on the fly. Examples include Python, JavaScript, and Ruby.\n",
        "- **Compiled Languages:** In contrast, compiled languages require a compiler to translate the entire source code into machine code before execution. This machine code is then executed by the computer's hardware. Examples include C, C++, and Rust.\n",
        "\n",
        "**2. What is exception handling in Python?**\n",
        "- Exception handling in Python enhances robustness by allowing programs to handle errors gracefully without crashing. It provides a structured way to manage potential errors through the use of **try**, **except**, **else**, and **finally** blocks, making it easier to write reliable and maintainable code.\n",
        "\n",
        "*example*\n",
        "\n"
      ],
      "metadata": {
        "id": "Cb7fdDiXQGYK"
      }
    },
    {
      "cell_type": "code",
      "source": [
        "try:\n",
        "    numerator = 10\n",
        "    denominator = 0\n",
        "    result = numerator / denominator\n",
        "except ZeroDivisionError:\n",
        "    print(\"Error: Denominator cannot be zero.\")\n",
        "else:\n",
        "    print(\"Result is\", result)\n",
        "finally:\n",
        "    print(\"Execution complete.\")\n"
      ],
      "metadata": {
        "colab": {
          "base_uri": "https://localhost:8080/"
        },
        "id": "XAK5pFfWQzbU",
        "outputId": "d5cf7715-ed25-4304-8c59-c5f47c6c43cf"
      },
      "execution_count": null,
      "outputs": [
        {
          "output_type": "stream",
          "name": "stdout",
          "text": [
            "Error: Denominator cannot be zero.\n",
            "Execution complete.\n"
          ]
        }
      ]
    },
    {
      "cell_type": "markdown",
      "source": [
        "**3. What is the purpose of the finally block in exception handling?**\n",
        "- The finally block in Python's exception handling mechanism serves a critical purpose: it ensures that specific code is executed regardless of whether an exception was raised or handled in the preceding try and except blocks. Here’s a detailed look at its purpose and functionality:\n"
      ],
      "metadata": {
        "id": "83WyMlblRM0h"
      }
    },
    {
      "cell_type": "code",
      "source": [
        "try:\n",
        "    file = open(\"example.txt\", \"r\")\n",
        "    # Perform file operations\n",
        "    content = file.read()\n",
        "    print(content)\n",
        "except FileNotFoundError:\n",
        "    print(\"File not found.\")\n",
        "finally:\n",
        "    # Check if file is defined before attempting to close it\n",
        "    if 'file' in locals() and file:  # Ensure 'file' exists and is not None\n",
        "        file.close()\n",
        "        print(\"File closed.\")\n"
      ],
      "metadata": {
        "colab": {
          "base_uri": "https://localhost:8080/"
        },
        "id": "xRrVCooWRbry",
        "outputId": "6eaa9f57-2070-48be-e27b-7f662a6cafeb"
      },
      "execution_count": null,
      "outputs": [
        {
          "output_type": "stream",
          "name": "stdout",
          "text": [
            "File not found.\n"
          ]
        }
      ]
    },
    {
      "cell_type": "markdown",
      "source": [
        "**4.What is logging in Python?**\n",
        "- Logging in Python is a powerful feature that allows developers to track events that occur during the execution of a program. It provides a way to record messages about the program's operation, which can be invaluable for debugging, monitoring, and understanding the flow of an application.\n",
        "\n",
        "**5. What is the significance of the__del__ method in Python?**\n",
        "- The __del__ method in Python is a special method, also known as a destructor, that is automatically called when an object is about to be destroyed. This occurs when the object's reference count drops to zero, meaning there are no more references to it in the program.\n",
        "*ere’s a simple example demonstrating how the __del__ method works:*\n"
      ],
      "metadata": {
        "id": "Ji8kavXdRyS6"
      }
    },
    {
      "cell_type": "code",
      "source": [
        "class ResourceHandler:\n",
        "    def __init__(self, resource_name):\n",
        "        self.resource_name = resource_name\n",
        "        print(f\"Resource {self.resource_name} acquired.\")\n",
        "\n",
        "    def __del__(self):\n",
        "        print(f\"Resource {self.resource_name} released.\")\n",
        "\n",
        "# Create an instance of ResourceHandler\n",
        "handler = ResourceHandler(\"File1.txt\")\n",
        "\n",
        "# Delete the instance explicitly\n",
        "del handler\n"
      ],
      "metadata": {
        "colab": {
          "base_uri": "https://localhost:8080/"
        },
        "id": "lEEwQuKVSsyy",
        "outputId": "b29d897b-7681-4320-9e9a-b32f5469f888"
      },
      "execution_count": null,
      "outputs": [
        {
          "output_type": "stream",
          "name": "stdout",
          "text": [
            "Resource File1.txt acquired.\n",
            "Resource File1.txt released.\n"
          ]
        }
      ]
    },
    {
      "cell_type": "markdown",
      "source": [
        "**6. What is the difference between import and from import in Python?**\n",
        " - The difference between import and from import in Python pertains to how modules and their components are accessed within the code.*import* module brings the entire module into namespace with clear access via its name, while *from module import* component allows direct access to specific components without prefixes. Choosing between these methods often depends on context, readability preferences, and potential naming conflicts in your code.\n",
        "\n",
        "\n",
        "**7. How can you handle multiple exceptions in Python?**\n",
        "- Python provides flexible options for handling multiple exceptions through single or multiple except blocks. By using tuples for grouping similar exceptions or separate blocks for distinct handling, developers can create robust error management strategies that enhance code readability and maintainability.\n",
        "\n",
        "*example*\n",
        "\n"
      ],
      "metadata": {
        "id": "NqkeU0TKSzT6"
      }
    },
    {
      "cell_type": "code",
      "source": [
        "try:\n",
        "    value = int(input(\"Enter a number: \"))\n",
        "    result = 10 / value\n",
        "except ValueError as ve:\n",
        "    print(f\"ValueError: {ve}\")\n",
        "except ZeroDivisionError as zde:\n",
        "    print(f\"ZeroDivisionError: {zde}\")\n",
        "\n"
      ],
      "metadata": {
        "colab": {
          "base_uri": "https://localhost:8080/"
        },
        "id": "tgwBFQmoUDgy",
        "outputId": "dfb78a0b-eea0-406d-8319-8fc7c0464bef"
      },
      "execution_count": null,
      "outputs": [
        {
          "name": "stdout",
          "output_type": "stream",
          "text": [
            "Enter a number: 25\n"
          ]
        }
      ]
    },
    {
      "cell_type": "markdown",
      "source": [
        "**8. What is the purpose of the with statement when handling files in Python?**\n",
        "- The with statement in Python serves a crucial role in resource management, particularly when handling files. Its primary purpose is to simplify the management of resources that need to be acquired and released in a specific order, ensuring that they are properly cleaned up after use, even if errors occur during processing.\n",
        "\n",
        "**9. What is the difference between multithreading and multiprocessing?**\n",
        "- Multithreading and multiprocessing are both techniques used to enhance the performance of applications by executing multiple tasks concurrently, but they operate in fundamentally different ways.\n",
        "\n",
        "**Multithreading** \tInvolves multiple threads within a single process and executes multiple threads simultaneously.\n",
        "\n",
        "**Multiprocessing** Involves multiple processes, each with its own memory space and executes multiple processes simultaneously.\n",
        "\n",
        "**10. What are the advantages of using logging in a program?**\n",
        "- Logging is a critical aspect of software development and operations, providing numerous advantages that enhance the reliability and maintainability of applications.Here are the key benefits of using logging in a program:\n",
        "1. Problem Diagnosis\n",
        "2. Quick Debugging\n",
        "3. Easy Maintenance\n",
        "4. Historical Data\n",
        "5. Enhanced Security\n",
        "6. Performance Monitoring\n",
        "7. Transparency and Accountability\n",
        "8. Centralized Logging Capabilities\n",
        "9. Log Levels\n",
        "\n",
        "**11. What is memory management in Python?**\n",
        "-  Python's memory management system combines automatic allocation and deallocation with sophisticated techniques like garbage collection and memory pooling to ensure efficient resource utilization while minimizing the risk of leaks and fragmentation.\n",
        "\n",
        "**12. What are the basic steps involvediln exception handling in Python?**\n",
        "- Exception handling in Python is a structured way to manage errors that occur during program execution. Here are the basic steps involved in handling exceptions:\n",
        "\n",
        "A. Using the **try** Block:\n",
        "\n",
        "Begin by placing the code that may raise an exception inside a try block. This block allows us to test a segment of code for errors.\n",
        "\n",
        "B. Catching Exceptions with **except**:\n",
        "\n",
        "Follow the try block with one or more except blocks to handle specific exceptions. If an exception occurs in the try block, the program control transfers to the corresponding except block.\n",
        "\n",
        "C. Using **Multiple except** Blocks:\n",
        "\n",
        "You can define multiple except blocks to handle different types of exceptions separately. This allows for tailored responses based on the specific error encountered.\n",
        "\n",
        "D. Optional **else** Block:\n",
        "\n",
        "An optional else block can be added after all except blocks. The code within this block executes only if no exceptions were raised in the try block.\n",
        "\n",
        "E. Using the **finally** Block:\n",
        "\n",
        "A finally block can be included to execute code that should run regardless of whether an exception was raised or not. This is often used for cleanup actions, like closing files or releasing resources.\n",
        "\n",
        "F. Raising Exceptions:\n",
        "\n",
        "We can also raise exceptions intentionally using the raise keyword if certain conditions are met, allowing for custom error handling.\n",
        "\n",
        "\n",
        "**13. Why is memory management important in Python?**\n",
        "- Memory management is a vital aspect of Python programming, influencing both performance and resource utilization.Effective memory management in Python is crucial for ensuring optimal performance, preventing resource leaks, and enabling the development of scalable applications capable of handling large datasets efficiently.\n",
        "\n",
        "**14. What is the role of try and except in exception handling?**\n",
        "- The use of try and except blocks allows Python programs to handle errors gracefully, maintaining control over program flow even in the face of unexpected conditions. This structured approach not only prevents crashes but also enhances user experience by providing informative feedback when errors occur.\n",
        "\n",
        "**15. How does Python's garbage collection system work?**\n",
        "- Python's garbage collection system effectively combines reference counting with generational garbage collection and cycle detection to manage memory efficiently. This automatic process not only helps prevent memory leaks but also optimizes performance by reclaiming unused memory while minimizing disruption during program execution. By understanding these mechanisms, developers can write more efficient Python code and manage resources better.\n",
        "\n",
        "**16. What is the purpose of the else block in exception handling?**\n",
        "- The else block is a useful construct in Python's exception handling that executes only when no exceptions occur in the preceding try block, enhancing code clarity and preventing unintended exception handling for subsequent operations.\n",
        "\n",
        "**17. What are the common logging levels in Python?**\n",
        "- Python's logging module provides several predefined logging levels that help categorize and prioritize log messages based on their severity. Here are the common logging levels in Python: DEBUG (10), INFO (20), WARNING (30),ERROR (40),CRITICAL (50) and NOTSET (0).\n",
        "\n",
        "**18. What is the difference between os fork() and multiprocessing in Python?**\n",
        "- Both os.fork() and the multiprocessing module serve the purpose of creating new processes in Python, they differ significantly in their mechanisms, performance characteristics, and use cases. Developers should choose based on their specific needs regarding performance, platform compatibility, and memory management requirements.\n",
        "\n",
        "**19. What is the importance of closing a file in Python?**\n",
        "- Closing files in Python is essential for maintaining system performance, ensuring data integrity, and preventing potential issues related to resource management. Adopting best practices like using the with statement for file handling can significantly mitigate risks associated with unclosed files.\n",
        "\n",
        "**20. What is the difference between file.read() and file.readline() in Python?**\n",
        "\n",
        "-The difference between file.read() and file.readline() in Python lies primarily in how they read data from a file and the structure of the output they produce.\n",
        "\n",
        "file.read() reads entire file or specified bytes whereas file.readline() reads One line at a time.\n",
        "\n",
        "**21. What is the logging module in Python used for?**\n",
        "- Python's logging module is essential for effective software development as it provides a structured way to track application behavior, facilitate debugging, and monitor performance while allowing for flexible configuration and customization of log output.\n",
        "\n",
        "**22. What is the os module in Python used for in file handling?**\n",
        "- the os module is essential for file handling in Python, providing a comprehensive set of tools for managing files and directories, manipulating paths, and interacting with the operating system. Its ability to handle low-level operations and ensure cross-platform compatibility makes it invaluable for developers working with file systems.\n",
        "\n",
        "\n",
        "**23. What are the challenges associated with memory management in Python?**\n",
        "- Memory management in Python, while largely automated, presents several challenges that developers need to be aware of. Here are the key challenges associated with memory management in Python:\n",
        "\n",
        "1. Garbage Collection Limitations\n",
        "2. Memory Leaks:\n",
        "3. High Memory Footprint\n",
        "4. Performance Overhead\n",
        "5. Handling Large Datasets\n",
        "6. External Libraries and Extensions\n",
        "7. Debugging Memory Issues\n",
        "8. Global Interpreter Lock (GIL)\n",
        "\n",
        "**24. How do you raise an exception manually in Python?**\n",
        "- To manually raise an exception in Python, we can use the **raise** keyword followed by the type of exception you want to raise. This allows us to signal that an error has occurred or to control the flow of your program under certain conditions. Here’s a detailed explanation of how to do this:\n",
        "\n",
        "*example usage*\n",
        "\n",
        "\n",
        "\n",
        "\n",
        "\n",
        "\n",
        "\n",
        "\n",
        "\n",
        "\n",
        "\n",
        "\n",
        "\n",
        "\n",
        "\n"
      ],
      "metadata": {
        "id": "S3tzhivDUT2y"
      }
    },
    {
      "cell_type": "code",
      "source": [
        "def calculate_payment(amount, payment_type):\n",
        "    if payment_type not in [\"Visa\", \"Mastercard\"]:\n",
        "        raise ValueError(\"Payment type must be either Visa or Mastercard\")\n",
        "    # Proceed with payment processing\n"
      ],
      "metadata": {
        "id": "h8FKb5SHtdfA"
      },
      "execution_count": null,
      "outputs": []
    },
    {
      "cell_type": "markdown",
      "source": [
        "**25. Why is it important to use multithreading in certain applications?**\n",
        "- Multithreading is essential in many applications due to its ability to improve performance, responsiveness, resource utilization, and scalability while simplifying program structure and enhancing communication between concurrent tasks. These advantages make it a valuable technique in modern software development across various domains."
      ],
      "metadata": {
        "id": "Mc9DggAOtnkM"
      }
    },
    {
      "cell_type": "markdown",
      "source": [
        "# **Practical Questions**\n"
      ],
      "metadata": {
        "id": "EtWd75UX4NRi"
      }
    },
    {
      "cell_type": "code",
      "source": [
        "#. 1.How can you open a file for writing in Python and write a string to it?\n",
        "file = open(\"myfile.txt\", \"w\")\n",
        "# Writing a single string\n",
        "file.write(\"Hi, I am Sukhendu\\n\")  # Adds a newline at the end\n",
        "file.close() # Close the file after writing\n",
        "\n",
        "# Reopen the file in read mode to iterate through its contents\n",
        "file = open(\"myfile.txt\", \"r\")\n",
        "for i in file:\n",
        "  print(i)\n",
        "file.close() # Close the file after reading"
      ],
      "metadata": {
        "colab": {
          "base_uri": "https://localhost:8080/"
        },
        "id": "YFRg6cc15kzV",
        "outputId": "f2cf458c-42f0-4479-dd40-c95fef7055fd"
      },
      "execution_count": 4,
      "outputs": [
        {
          "output_type": "stream",
          "name": "stdout",
          "text": [
            "Hi, I am Sukhendu\n",
            "\n"
          ]
        }
      ]
    },
    {
      "cell_type": "code",
      "source": [
        "#2. Write a Python program to read the contents of a file and print each line\n",
        "\n",
        "# Specify the file name\n",
        "file_name = \"myfile.txt\"\n",
        "\n",
        "# Open the file for writing and writing content\n",
        "with open(file_name, \"w\") as file: # Open the file in write mode using 'with'\n",
        "    file.write(\"I am a PW Skill Student\\n\")\n",
        "    file.write(\"I am studying Data Analysis\\n\")\n",
        "# File is automatically closed when exiting the 'with' block\n",
        "\n",
        "# Open the file for reading\n",
        "with open(file_name, \"r\") as file: # Open the file again in read mode using 'with'\n",
        "    # Iterate over each line in the file\n",
        "    for line in file:\n",
        "        # Print the current line\n",
        "        print(line.strip())  # Using strip() to remove any leading/trailing whitespace\n"
      ],
      "metadata": {
        "colab": {
          "base_uri": "https://localhost:8080/"
        },
        "id": "N8yAzP325-Ul",
        "outputId": "b8d23011-c198-40dc-80d7-6b4eadc0f908"
      },
      "execution_count": 8,
      "outputs": [
        {
          "output_type": "stream",
          "name": "stdout",
          "text": [
            "I am a PW Skill Student\n",
            "I am studying Data Analysis\n"
          ]
        }
      ]
    },
    {
      "cell_type": "code",
      "source": [
        "#3. How would you handle a case where the file doesn't exist while trying to open it for reading?\n",
        "'''To handle a case where a file doesn't exist while trying to open it for reading in Python, we can use a try-except block.\n",
        "This approach allows us to catch the FileNotFoundError exception, which is raised when attempting to open a file that does not exist.\n",
        "Here’s how we can implement this:'''\n",
        "\n",
        "# Specify the file name\n",
        "file_name = \"myfiles.txt\"\n",
        "\n",
        "# Attempt to open the file for reading\n",
        "try:\n",
        "    with open(file_name, \"r\") as file:\n",
        "        # Read and print each line from the file\n",
        "        for line in file:\n",
        "            print(line.strip())\n",
        "except FileNotFoundError:\n",
        "    print(f\"The file '{file_name}' does not exist.\")\n"
      ],
      "metadata": {
        "colab": {
          "base_uri": "https://localhost:8080/"
        },
        "id": "Y7DTQ3aG60QT",
        "outputId": "e30d3610-d0d0-403f-ea07-9b3143f4dae4"
      },
      "execution_count": 10,
      "outputs": [
        {
          "output_type": "stream",
          "name": "stdout",
          "text": [
            "The file 'myfiles.txt' does not exist.\n"
          ]
        }
      ]
    },
    {
      "cell_type": "code",
      "source": [
        "#4. Write a Python script that reads from one file and writes its content to another file.\n",
        "\n",
        "source_file = open(\"source.txt\", \"w\")\n",
        "destination_file = open(\"destination.txt\", \"w\")\n",
        "source_file.write(\"Hi, I am Sukhendu\\n\")\n",
        "source_file.write(\"I am studying Data Analysis\\n\")\n",
        "source_file.close()\n",
        "\n",
        "# Specify the source and destination file names\n",
        "source_file_name = \"source.txt\"\n",
        "destination_file_name = \"destination.txt\"\n",
        "\n",
        "# Open the source file for reading\n",
        "try:\n",
        "    with open(source_file_name, \"r\") as source_file:\n",
        "        # Open the destination file for writing\n",
        "        with open(destination_file_name, \"w\") as destination_file:\n",
        "            # Read each line from the source file and write it to the destination file\n",
        "            for line in source_file:\n",
        "                destination_file.write(line)\n",
        "    print(f\"Contents copied from '{source_file_name}' to '{destination_file_name}' successfully.\")\n",
        "except FileNotFoundError:\n",
        "    print(f\"The file '{source_file_name}' does not exist.\")\n",
        "except IOError as e:\n",
        "    print(f\"An error occurred while handling files: {e}\")\n",
        "\n"
      ],
      "metadata": {
        "colab": {
          "base_uri": "https://localhost:8080/"
        },
        "id": "oOBkvEf78DKd",
        "outputId": "d0fb7476-3dce-4785-b45d-605c7e6d4339"
      },
      "execution_count": 13,
      "outputs": [
        {
          "output_type": "stream",
          "name": "stdout",
          "text": [
            "Contents copied from 'source.txt' to 'destination.txt' successfully.\n"
          ]
        }
      ]
    },
    {
      "cell_type": "code",
      "source": [
        "#5. How would you catch and handle division by zero error in Python?\n",
        "'''\n",
        "To catch and handle a division by zero error in Python, we can use a try-except block.\n",
        "This allows us to attempt the division operation and gracefully handle the exception if it occurs.\n",
        "Here’s how we can implement it:\n",
        "'''\n",
        "def divide_numbers(x, y):\n",
        "    try:\n",
        "        # Attempt to perform the division operation\n",
        "        result = x / y\n",
        "        print(\"Result:\", result)\n",
        "    except ZeroDivisionError:\n",
        "        # Handle the exception if a division by zero is attempted\n",
        "        print(\"Error: Cannot divide by zero.\")\n",
        "\n",
        "# Example usage\n",
        "numerator = 10\n",
        "denominator = 0\n",
        "\n",
        "divide_numbers(numerator, denominator)\n"
      ],
      "metadata": {
        "colab": {
          "base_uri": "https://localhost:8080/"
        },
        "id": "Bn2uKBUk8Wfj",
        "outputId": "2568402a-b885-4603-b120-cf9ff0207ea7"
      },
      "execution_count": 15,
      "outputs": [
        {
          "output_type": "stream",
          "name": "stdout",
          "text": [
            "Error: Cannot divide by zero.\n"
          ]
        }
      ]
    },
    {
      "cell_type": "code",
      "source": [
        "#6. Write a Python program that logs an error message to a log file when a division by zero exception occurs.\n",
        "\n",
        "import logging\n",
        "\n",
        "# Configure the logging\n",
        "logging.basicConfig(\n",
        "    filename='error_log.txt',  # Log file name\n",
        "    level=logging.ERROR,        # Set the logging level to ERROR\n",
        "    format='%(asctime)s - %(levelname)s - %(message)s'  # Log message format\n",
        ")\n",
        "\n",
        "def divide_numbers(x, y):\n",
        "    try:\n",
        "        # Attempt to perform the division operation\n",
        "        result = x / y\n",
        "        print(\"Result:\", result)\n",
        "    except ZeroDivisionError:\n",
        "        # Log the error message to the log file\n",
        "        logging.error(\"Division by zero attempted with numerator: %s and denominator: %s\", x, y)\n",
        "        print(\"Error: Cannot divide by zero. The error has been logged.\")\n",
        "\n",
        "# Example usage\n",
        "numerator = 10\n",
        "denominator = 0\n",
        "\n",
        "divide_numbers(numerator, denominator)\n"
      ],
      "metadata": {
        "colab": {
          "base_uri": "https://localhost:8080/"
        },
        "id": "i1SOCFvO-XDk",
        "outputId": "df185d0a-6a46-4b37-b2ff-dc71e2b25039"
      },
      "execution_count": 16,
      "outputs": [
        {
          "output_type": "stream",
          "name": "stderr",
          "text": [
            "ERROR:root:Division by zero attempted with numerator: 10 and denominator: 0\n"
          ]
        },
        {
          "output_type": "stream",
          "name": "stdout",
          "text": [
            "Error: Cannot divide by zero. The error has been logged.\n"
          ]
        }
      ]
    },
    {
      "cell_type": "code",
      "source": [
        "#7. How do you log information at different levels (INFO, ERROR WARNING) in Python using the logging module?\n",
        "\n",
        "import logging\n",
        "\n",
        "# Configure the logging\n",
        "logging.basicConfig(\n",
        "    level=logging.DEBUG,  # Set the minimum log level to DEBUG\n",
        "    format='%(asctime)s - %(levelname)s - %(message)s'  # Log message format\n",
        ")\n",
        "\n",
        "# Create a logger\n",
        "logger = logging.getLogger(__name__)\n",
        "\n",
        "# Log messages at different levels\n",
        "logger.debug(\"This is a debug message.\")   # Detailed information for diagnosing problems\n",
        "logger.info(\"This is an info message.\")     # General information confirming the program is working as expected\n",
        "logger.warning(\"This is a warning message.\") # Indicating something unexpected occurred\n",
        "logger.error(\"This is an error message.\")    # Serious issue that needs attention\n",
        "logger.critical(\"This is a critical message.\") # Severe error indicating the program may not continue running\n"
      ],
      "metadata": {
        "colab": {
          "base_uri": "https://localhost:8080/"
        },
        "id": "JC1e6KE7-msr",
        "outputId": "b1c8189c-3f42-43ad-d97e-ca201a0c2c0d"
      },
      "execution_count": 17,
      "outputs": [
        {
          "output_type": "stream",
          "name": "stderr",
          "text": [
            "WARNING:__main__:This is a warning message.\n",
            "ERROR:__main__:This is an error message.\n",
            "CRITICAL:__main__:This is a critical message.\n"
          ]
        }
      ]
    },
    {
      "cell_type": "code",
      "source": [
        "#8. Write a program to handle a file opening error using exception handling.\n",
        "\n",
        "def open_file(filename):\n",
        "    try:\n",
        "        # Attempt to open the file\n",
        "        with open(filename, \"r\") as file:\n",
        "            content = file.read()  # Read the contents of the file\n",
        "            print(\"File contents:\")\n",
        "            print(content)\n",
        "    except FileNotFoundError:\n",
        "        # Handle the case where the file does not exist\n",
        "        print(f\"Error: The file '{filename}' was not found.\")\n",
        "    except IOError:\n",
        "        # Handle other I/O related errors\n",
        "        print(f\"Error: An I/O error occurred while trying to open '{filename}'.\")\n",
        "\n",
        "# Example usage\n",
        "file_name = \"example.txt\"  # Change this to a filename that may not exist\n",
        "open_file(file_name)\n"
      ],
      "metadata": {
        "colab": {
          "base_uri": "https://localhost:8080/"
        },
        "id": "FoNNMucm-6rD",
        "outputId": "ee999fe4-8ff1-4e3e-8a06-52ec821f3982"
      },
      "execution_count": 18,
      "outputs": [
        {
          "output_type": "stream",
          "name": "stdout",
          "text": [
            "Error: The file 'example.txt' was not found.\n"
          ]
        }
      ]
    },
    {
      "cell_type": "code",
      "source": [
        "#9. How can you read a file line by line and store its content in a list in Python?\n",
        "\n",
        "lines = []\n",
        "with open(\"myfile.txt\", \"r\") as file:\n",
        "    for line in file:\n",
        "        lines.append(line.strip())  # Remove newline characters and add to the list\n",
        "\n",
        "print(lines)\n",
        "\n"
      ],
      "metadata": {
        "colab": {
          "base_uri": "https://localhost:8080/"
        },
        "id": "t9pV9NG2_Hur",
        "outputId": "ff14c2bf-67fd-4e55-80bc-7cecb7951f90"
      },
      "execution_count": 21,
      "outputs": [
        {
          "output_type": "stream",
          "name": "stdout",
          "text": [
            "['I am a PW Skill Student', 'I am studying Data Analysis']\n"
          ]
        }
      ]
    },
    {
      "cell_type": "code",
      "source": [
        "#10. How can you append data to an existing file in Python?\n",
        "\n",
        "# Specify the filename\n",
        "filename = \"example.txt\"\n",
        "with open(filename, \"w\") as file:\n",
        "  file.write(\"This is a new line of text.\\n\")\n",
        "\n",
        "# Open the file in append mode\n",
        "with open(filename, \"a\") as file:\n",
        "    # Write new data to the file\n",
        "    file.write(\"This is new data that is being appended to the file.\\n\")\n",
        "\n",
        "with open(filename, \"r\") as file:\n",
        "\n",
        "    contents = file.read()  # Read all contents of the file\n",
        "    print(contents)\n",
        "\n",
        "\n",
        "\n"
      ],
      "metadata": {
        "colab": {
          "base_uri": "https://localhost:8080/"
        },
        "id": "h0bo8fGU_WMz",
        "outputId": "3fa16909-ffc9-4d47-c604-88676eb02a52"
      },
      "execution_count": 31,
      "outputs": [
        {
          "output_type": "stream",
          "name": "stdout",
          "text": [
            "This is a new line of text.\n",
            "This is new data that is being appended to the file.\n",
            "\n"
          ]
        }
      ]
    },
    {
      "cell_type": "code",
      "source": [
        "#11. Write a Python program that uses a try-except block to handle an errar when attempting to access a dictionary key that doesn't exist.\n",
        "\n",
        "# Sample dictionary\n",
        "my_dict = {\n",
        "    \"name\": \"Alice\",\n",
        "    \"age\": 30,\n",
        "    \"city\": \"New York\"\n",
        "}\n",
        "\n",
        "# Function to access a dictionary key\n",
        "def access_key(key):\n",
        "    try:\n",
        "        # Attempt to access the value associated with the provided key\n",
        "        value = my_dict[key]\n",
        "        print(f\"The value for '{key}' is: {value}\")\n",
        "    except KeyError:\n",
        "        # Handle the case where the key does not exist\n",
        "        print(f\"Error: The key '{key}' does not exist in the dictionary.\")\n",
        "\n",
        "# Example usage\n",
        "access_key(\"name\")  # This will succeed\n",
        "access_key(\"country\")  # This will raise a KeyError\n"
      ],
      "metadata": {
        "colab": {
          "base_uri": "https://localhost:8080/"
        },
        "id": "Bcltvzii__NM",
        "outputId": "a10ec228-b28f-47d2-d1bf-ac42eb7db827"
      },
      "execution_count": 32,
      "outputs": [
        {
          "output_type": "stream",
          "name": "stdout",
          "text": [
            "The value for 'name' is: Alice\n",
            "Error: The key 'country' does not exist in the dictionary.\n"
          ]
        }
      ]
    },
    {
      "cell_type": "code",
      "source": [
        "#12. Write a program that demonstrates using multiple except blocks to handle different types of exceptions\n",
        "\n",
        "def perform_operations():\n",
        "    # Example 1: Handling ValueError\n",
        "    try:\n",
        "        user_input = input(\"Enter a number to divide 100: \")\n",
        "        number = int(user_input)  # This may raise ValueError if input is not an integer\n",
        "        result = 100 / number      # This may raise ZeroDivisionError if number is zero\n",
        "        print(f\"100 divided by {number} is {result}\")\n",
        "\n",
        "    except ValueError:\n",
        "        print(\"Error: Please enter a valid integer.\")\n",
        "\n",
        "    except ZeroDivisionError:\n",
        "        print(\"Error: Cannot divide by zero.\")\n",
        "\n",
        "    # Example 2: Handling FileNotFoundError\n",
        "    try:\n",
        "        filename = \"non_existent_file.txt\"\n",
        "        with open(filename, \"r\") as file:\n",
        "            content = file.read()\n",
        "            print(content)\n",
        "\n",
        "    except FileNotFoundError:\n",
        "        print(f\"Error: The file '{filename}' does not exist.\")\n",
        "\n",
        "# Run the function to demonstrate exception handling\n",
        "perform_operations()\n"
      ],
      "metadata": {
        "colab": {
          "base_uri": "https://localhost:8080/"
        },
        "id": "GJIuu1_5Cp6r",
        "outputId": "0042d18c-3788-4865-9cb1-3c8532b869fc"
      },
      "execution_count": 33,
      "outputs": [
        {
          "output_type": "stream",
          "name": "stdout",
          "text": [
            "Enter a number to divide 100: 1225\n",
            "100 divided by 1225 is 0.08163265306122448\n",
            "Error: The file 'non_existent_file.txt' does not exist.\n"
          ]
        }
      ]
    },
    {
      "cell_type": "code",
      "source": [
        "#13.How would you check if a file exists before attempting to read it in Python?\n",
        "\n",
        "import os\n",
        "\n",
        "filename = \"example.txt\"\n",
        "\n",
        "# Check if the file exists\n",
        "if os.path.isfile(filename):\n",
        "    print(f\"The file '{filename}' exists.\")\n",
        "else:\n",
        "    print(f\"The file '{filename}' does not exist.\")\n"
      ],
      "metadata": {
        "colab": {
          "base_uri": "https://localhost:8080/"
        },
        "id": "_sIUAvimC4rD",
        "outputId": "4eed3073-c134-4f69-ec89-2c621398bdd0"
      },
      "execution_count": 34,
      "outputs": [
        {
          "output_type": "stream",
          "name": "stdout",
          "text": [
            "The file 'example.txt' exists.\n"
          ]
        }
      ]
    },
    {
      "cell_type": "code",
      "source": [
        "#14. Write a program that uses the logging module to log both informational and error messages.\n",
        "\n",
        "import logging\n",
        "\n",
        "# Configure the logging\n",
        "logging.basicConfig(\n",
        "    filename='app.log',  # Log file name\n",
        "    level=logging.DEBUG,  # Set the minimum log level to DEBUG\n",
        "    format='%(asctime)s - %(levelname)s - %(message)s'  # Log message format\n",
        ")\n",
        "\n",
        "def perform_operations():\n",
        "    # Log an informational message\n",
        "    logging.info(\"Program started.\")\n",
        "\n",
        "    try:\n",
        "        # Simulate a division operation\n",
        "        numerator = 10\n",
        "        denominator = 0  # Change this to a non-zero value to avoid error\n",
        "\n",
        "        logging.info(f\"Attempting to divide {numerator} by {denominator}.\")\n",
        "        result = numerator / denominator  # This will raise ZeroDivisionError\n",
        "\n",
        "        logging.info(f\"The result is: {result}\")\n",
        "\n",
        "    except ZeroDivisionError:\n",
        "        # Log the error message\n",
        "        logging.error(\"Error: Attempted to divide by zero.\")\n",
        "\n",
        "    finally:\n",
        "        logging.info(\"Program finished.\")\n",
        "\n",
        "# Run the function to demonstrate logging\n",
        "perform_operations()\n"
      ],
      "metadata": {
        "colab": {
          "base_uri": "https://localhost:8080/"
        },
        "id": "XdioaMFCDUyT",
        "outputId": "cbd706ad-abab-492f-be89-f663e7741098"
      },
      "execution_count": 35,
      "outputs": [
        {
          "output_type": "stream",
          "name": "stderr",
          "text": [
            "ERROR:root:Error: Attempted to divide by zero.\n"
          ]
        }
      ]
    },
    {
      "cell_type": "code",
      "source": [
        "#15. Write a Python program that prints the content of a file and handles the case when the file is empty.\n",
        "\n",
        "import os\n",
        "\n",
        "def print_file_content(filename):\n",
        "    # Check if the file exists\n",
        "    if not os.path.isfile(filename):\n",
        "        print(f\"Error: The file '{filename}' does not exist.\")\n",
        "        return\n",
        "\n",
        "    # Check if the file is empty\n",
        "    if os.path.getsize(filename) == 0:\n",
        "        print(f\"The file '{filename}' is empty.\")\n",
        "        return\n",
        "\n",
        "    # Open the file and print its contents\n",
        "    with open(filename, \"r\") as file:\n",
        "        content = file.read()\n",
        "        print(\"File contents:\")\n",
        "        print(content)\n",
        "\n",
        "# Example usage\n",
        "file_name = \"example.txt\"  # Change this to your file name\n",
        "print_file_content(file_name)\n"
      ],
      "metadata": {
        "colab": {
          "base_uri": "https://localhost:8080/"
        },
        "id": "9miz7fGCDcvL",
        "outputId": "447b1260-bf58-4d32-a82b-cf4867f95c77"
      },
      "execution_count": 36,
      "outputs": [
        {
          "output_type": "stream",
          "name": "stdout",
          "text": [
            "File contents:\n",
            "This is a new line of text.\n",
            "This is new data that is being appended to the file.\n",
            "\n"
          ]
        }
      ]
    },
    {
      "cell_type": "code",
      "source": [
        "#16.Demonstrate how to use memory profiling to check the memory usage of a small program\n",
        "\n",
        "!pip install memory-profiler\n",
        "\n",
        "from memory_profiler import profile\n",
        "\n",
        "@profile\n",
        "def allocate_memory():\n",
        "    # Allocate a list with a range of numbers\n",
        "    a = [i for i in range(10000)]\n",
        "\n",
        "    # Allocate another list with squares of numbers\n",
        "    b = [i ** 2 for i in range(10000)]\n",
        "\n",
        "    return a, b\n",
        "\n",
        "if __name__ == \"__main__\":\n",
        "    allocate_memory()\n",
        "from memory_profiler import profile\n",
        "\n",
        "@profile\n",
        "def allocate_memory():\n",
        "    # Allocate a list with a range of numbers\n",
        "    a = [i for i in range(10000)]\n",
        "\n",
        "    # Allocate another list with squares of numbers\n",
        "    b = [i ** 2 for i in range(10000)]\n",
        "\n",
        "    return a, b\n",
        "\n",
        "if __name__ == \"__main__\":\n",
        "    allocate_memory()\n",
        "\n",
        "\n"
      ],
      "metadata": {
        "colab": {
          "base_uri": "https://localhost:8080/"
        },
        "id": "7lYlE331Dyuj",
        "outputId": "3c8a3475-9f7b-4c81-f3a3-4da05f59638e"
      },
      "execution_count": 38,
      "outputs": [
        {
          "output_type": "stream",
          "name": "stdout",
          "text": [
            "Collecting memory-profiler\n",
            "  Downloading memory_profiler-0.61.0-py3-none-any.whl.metadata (20 kB)\n",
            "Requirement already satisfied: psutil in /usr/local/lib/python3.10/dist-packages (from memory-profiler) (5.9.5)\n",
            "Downloading memory_profiler-0.61.0-py3-none-any.whl (31 kB)\n",
            "Installing collected packages: memory-profiler\n",
            "Successfully installed memory-profiler-0.61.0\n"
          ]
        },
        {
          "output_type": "stream",
          "name": "stderr",
          "text": [
            "\n",
            "PYDEV DEBUGGER WARNING:\n",
            "sys.settrace() should not be used when the debugger is being used.\n",
            "This may cause the debugger to stop working correctly.\n",
            "If this is needed, please check: \n",
            "http://pydev.blogspot.com/2007/06/why-cant-pydev-debugger-work-with.html\n",
            "to see how to restore the debug tracing back correctly.\n",
            "Call Location:\n",
            "  File \"/usr/local/lib/python3.10/dist-packages/memory_profiler.py\", line 847, in enable\n",
            "    sys.settrace(self.trace_memory_usage)\n",
            "\n",
            "\n",
            "PYDEV DEBUGGER WARNING:\n",
            "sys.settrace() should not be used when the debugger is being used.\n",
            "This may cause the debugger to stop working correctly.\n",
            "If this is needed, please check: \n",
            "http://pydev.blogspot.com/2007/06/why-cant-pydev-debugger-work-with.html\n",
            "to see how to restore the debug tracing back correctly.\n",
            "Call Location:\n",
            "  File \"/usr/local/lib/python3.10/dist-packages/memory_profiler.py\", line 850, in disable\n",
            "    sys.settrace(self._original_trace_function)\n",
            "\n"
          ]
        },
        {
          "output_type": "stream",
          "name": "stdout",
          "text": [
            "ERROR: Could not find file <ipython-input-38-dc894e507d9d>\n",
            "NOTE: %mprun can only be used on functions defined in physical files, and not in the IPython environment.\n",
            "ERROR: Could not find file <ipython-input-38-dc894e507d9d>\n",
            "NOTE: %mprun can only be used on functions defined in physical files, and not in the IPython environment.\n"
          ]
        }
      ]
    },
    {
      "cell_type": "code",
      "source": [
        "#17. Write a Python program to create and write a list of numbers to a file, one number per line.\n",
        "\n",
        "def write_numbers_to_file(filename, numbers):\n",
        "    # Open the file in write mode\n",
        "    with open(filename, \"w\") as file:\n",
        "        # Write each number to the file, one per line\n",
        "        for number in numbers:\n",
        "            file.write(f\"{number}\\n\")  # Write the number followed by a newline\n",
        "\n",
        "# Example usage\n",
        "if __name__ == \"__main__\":\n",
        "    # Create a list of numbers\n",
        "    numbers = [1, 2, 3, 4, 5, 6, 7, 8, 9, 10]\n",
        "\n",
        "    # Specify the filename\n",
        "    filename = \"numbers.txt\"\n",
        "\n",
        "    # Write the list of numbers to the file\n",
        "    write_numbers_to_file(filename, numbers)\n",
        "\n",
        "    print(f\"Numbers have been written to '{filename}'.\")\n"
      ],
      "metadata": {
        "colab": {
          "base_uri": "https://localhost:8080/"
        },
        "id": "xXSkWSKSElR9",
        "outputId": "b0950f45-048c-47fd-f415-b4bccb15dc79"
      },
      "execution_count": 40,
      "outputs": [
        {
          "output_type": "stream",
          "name": "stdout",
          "text": [
            "Numbers have been written to 'numbers.txt'.\n"
          ]
        }
      ]
    },
    {
      "cell_type": "code",
      "source": [
        "#18. How would you implement a basic logging setup that logs to a file with rotation after IMB?\n",
        "\n",
        "import logging\n",
        "from logging.handlers import RotatingFileHandler\n",
        "\n",
        "# Configure the logger\n",
        "logger = logging.getLogger('MyLogger')\n",
        "logger.setLevel(logging.INFO)  # Set the logging level\n",
        "\n",
        "# Create a rotating file handler\n",
        "max_file_size = 1 * 1024 * 1024  # 1 MB\n",
        "backup_count = 5  # Keep 5 backup files\n",
        "handler = RotatingFileHandler('app.log', maxBytes=max_file_size, backupCount=backup_count)\n",
        "\n",
        "# Create a formatter and set it for the handler\n",
        "formatter = logging.Formatter('%(asctime)s - %(levelname)s - %(message)s')\n",
        "handler.setFormatter(formatter)\n",
        "\n",
        "# Add the handler to the logger\n",
        "logger.addHandler(handler)\n",
        "\n",
        "# Example usage: log messages\n",
        "if __name__ == \"__main__\":\n",
        "    for i in range(10):\n",
        "        logger.info(f\"This is log message number {i}.\")\n"
      ],
      "metadata": {
        "colab": {
          "base_uri": "https://localhost:8080/"
        },
        "id": "gs1xWhxkE-kM",
        "outputId": "2fa95e01-7162-4f59-996f-7b4830931862"
      },
      "execution_count": 42,
      "outputs": [
        {
          "output_type": "stream",
          "name": "stderr",
          "text": [
            "INFO:MyLogger:This is log message number 0.\n",
            "INFO:MyLogger:This is log message number 1.\n",
            "INFO:MyLogger:This is log message number 2.\n",
            "INFO:MyLogger:This is log message number 3.\n",
            "INFO:MyLogger:This is log message number 4.\n",
            "INFO:MyLogger:This is log message number 5.\n",
            "INFO:MyLogger:This is log message number 6.\n",
            "INFO:MyLogger:This is log message number 7.\n",
            "INFO:MyLogger:This is log message number 8.\n",
            "INFO:MyLogger:This is log message number 9.\n"
          ]
        }
      ]
    },
    {
      "cell_type": "code",
      "source": [
        "#19. Write a program that handles both Index Error and KeyError using a try-except block\n",
        "\n",
        "def access_data(my_list, my_dict):\n",
        "    try:\n",
        "        # Attempt to access an index in the list\n",
        "        index = 5  # Change this index to test IndexError\n",
        "        print(f\"Accessing index {index} in the list: {my_list[index]}\")\n",
        "\n",
        "        # Attempt to access a key in the dictionary\n",
        "        key = 'age'  # Change this key to test KeyError\n",
        "        print(f\"Accessing key '{key}' in the dictionary: {my_dict[key]}\")\n",
        "\n",
        "    except IndexError:\n",
        "        print(\"Error: Index out of range. Please check the list size.\")\n",
        "\n",
        "    except KeyError:\n",
        "        print(\"Error: Key not found in the dictionary. Please check the available keys.\")\n",
        "\n",
        "# Example usage\n",
        "if __name__ == \"__main__\":\n",
        "    my_list = [1, 2, 3]  # A list with three elements\n",
        "    my_dict = {'name': 'Alice', 'city': 'New York'}  # A dictionary with two keys\n",
        "\n",
        "    access_data(my_list, my_dict)\n"
      ],
      "metadata": {
        "colab": {
          "base_uri": "https://localhost:8080/"
        },
        "id": "tJKbP4GDFPuk",
        "outputId": "1b5451ba-dec7-443e-beb4-df23368e1d0c"
      },
      "execution_count": 43,
      "outputs": [
        {
          "output_type": "stream",
          "name": "stdout",
          "text": [
            "Error: Index out of range. Please check the list size.\n"
          ]
        }
      ]
    },
    {
      "cell_type": "code",
      "source": [
        "# 20. How would you open a file and read its contents using a context manager in Python?\n",
        "\n",
        "def read_file_contents(filename):\n",
        "    try:\n",
        "        # Open the file using a context manager\n",
        "        with open(filename, 'r') as file:\n",
        "            # Read the contents of the file\n",
        "            contents = file.read()\n",
        "            print(\"File contents:\")\n",
        "            print(contents)\n",
        "    except FileNotFoundError:\n",
        "        print(f\"Error: The file '{filename}' does not exist.\")\n",
        "    except IOError:\n",
        "        print(f\"Error: An I/O error occurred while reading the file.\")\n",
        "\n",
        "# Example usage\n",
        "if __name__ == \"__main__\":\n",
        "    filename = \"example.txt\"  # Change this to your actual file name\n",
        "    read_file_contents(filename)\n"
      ],
      "metadata": {
        "colab": {
          "base_uri": "https://localhost:8080/"
        },
        "id": "x4C2yeLFFqz1",
        "outputId": "33040d8e-5c31-4de9-c15e-27a8a534f5b3"
      },
      "execution_count": 44,
      "outputs": [
        {
          "output_type": "stream",
          "name": "stdout",
          "text": [
            "File contents:\n",
            "This is a new line of text.\n",
            "This is new data that is being appended to the file.\n",
            "\n"
          ]
        }
      ]
    },
    {
      "cell_type": "code",
      "source": [
        "#21.  Write a Python program that reads a file and prints the number of occurrences of a specific word.\n",
        "\n",
        "def count_word_occurrences(filename, target_word):\n",
        "    try:\n",
        "        # Open the file using a context manager\n",
        "        with open(filename, 'r') as file:\n",
        "            # Read the contents of the file\n",
        "            contents = file.read()\n",
        "            # Count occurrences of the target word\n",
        "            word_count = contents.lower().split().count(target_word.lower())\n",
        "            return word_count\n",
        "    except FileNotFoundError:\n",
        "        print(f\"Error: The file '{filename}' does not exist.\")\n",
        "        return 0\n",
        "    except IOError:\n",
        "        print(f\"Error: An I/O error occurred while reading the file.\")\n",
        "        return 0\n",
        "\n",
        "if __name__ == \"__main__\":\n",
        "    # Prompt user for filename and target word\n",
        "    filename = input(\"Enter the filename: \")\n",
        "    target_word = input(\"Enter the word to count: \")\n",
        "\n",
        "    # Count occurrences of the target word\n",
        "    count = count_word_occurrences(filename, target_word)\n",
        "\n",
        "    if count > 0:\n",
        "        print(f\"The word '{target_word}' occurs {count} times in the file '{filename}'.\")\n",
        "    else:\n",
        "        print(f\"The word '{target_word}' does not occur in the file '{filename}'.\")\n"
      ],
      "metadata": {
        "colab": {
          "base_uri": "https://localhost:8080/"
        },
        "id": "wkPnNE0NF-0k",
        "outputId": "4a30f97b-3d21-4cac-e200-f6350d8b5f1f"
      },
      "execution_count": 45,
      "outputs": [
        {
          "output_type": "stream",
          "name": "stdout",
          "text": [
            "Enter the filename: example.txt\n",
            "Enter the word to count: new\n",
            "The word 'new' occurs 2 times in the file 'example.txt'.\n"
          ]
        }
      ]
    },
    {
      "cell_type": "code",
      "source": [
        "#22. How can you check if a file is empty before attempting to read its contents?\n",
        "\n",
        "import os\n",
        "\n",
        "def is_file_empty(filename):\n",
        "    return os.path.getsize(filename) == 0\n",
        "\n",
        "# Example usage\n",
        "filename = \"example.txt\"\n",
        "if is_file_empty(filename):\n",
        "    print(f\"The file '{filename}' is empty.\")\n",
        "else:\n",
        "    print(f\"The file '{filename}' is not empty.\")\n"
      ],
      "metadata": {
        "colab": {
          "base_uri": "https://localhost:8080/"
        },
        "id": "74pWjUY8GIt8",
        "outputId": "4635b407-6894-4f66-f085-c1708e6e5fde"
      },
      "execution_count": 46,
      "outputs": [
        {
          "output_type": "stream",
          "name": "stdout",
          "text": [
            "The file 'example.txt' is not empty.\n"
          ]
        }
      ]
    },
    {
      "cell_type": "code",
      "source": [
        "#23. Write a Python program that writes to a log file when an error occurs during file handling\n",
        "\n",
        "import logging\n",
        "\n",
        "# Configure logging\n",
        "logging.basicConfig(\n",
        "    filename='file_handling_errors.log',  # Log file name\n",
        "    level=logging.ERROR,                   # Set the logging level to ERROR\n",
        "    format='%(asctime)s - %(levelname)s - %(message)s'  # Log message format\n",
        ")\n",
        "\n",
        "def read_file(filename):\n",
        "    try:\n",
        "        with open(filename, 'r') as file:\n",
        "            content = file.read()\n",
        "            print(\"File contents:\")\n",
        "            print(content)\n",
        "    except FileNotFoundError:\n",
        "        logging.error(f\"FileNotFoundError: The file '{filename}' does not exist.\")\n",
        "        print(f\"Error: The file '{filename}' does not exist.\")\n",
        "    except IOError as e:\n",
        "        logging.error(f\"IOError: An I/O error occurred while reading the file '{filename}': {e}\")\n",
        "        print(f\"Error: An I/O error occurred while reading the file '{filename}'.\")\n",
        "\n",
        "if __name__ == \"__main__\":\n",
        "    # Example usage\n",
        "    filename = input(\"Enter the filename to read: \")\n",
        "    read_file(filename)\n"
      ],
      "metadata": {
        "colab": {
          "base_uri": "https://localhost:8080/"
        },
        "id": "RIcYQORzGabD",
        "outputId": "44ae6fee-90a7-46f6-dfec-ff0d191b7236"
      },
      "execution_count": 47,
      "outputs": [
        {
          "output_type": "stream",
          "name": "stdout",
          "text": [
            "Enter the filename to read: example.txt\n",
            "File contents:\n",
            "This is a new line of text.\n",
            "This is new data that is being appended to the file.\n",
            "\n"
          ]
        }
      ]
    },
    {
      "cell_type": "code",
      "source": [],
      "metadata": {
        "id": "eRXKXFo_GkSE"
      },
      "execution_count": null,
      "outputs": []
    }
  ]
}