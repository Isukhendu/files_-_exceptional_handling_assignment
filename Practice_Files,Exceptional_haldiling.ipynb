{
  "nbformat": 4,
  "nbformat_minor": 0,
  "metadata": {
    "colab": {
      "provenance": []
    },
    "kernelspec": {
      "name": "python3",
      "display_name": "Python 3"
    },
    "language_info": {
      "name": "python"
    }
  },
  "cells": [
    {
      "cell_type": "code",
      "execution_count": null,
      "metadata": {
        "id": "3Cx2TrGHEwu2"
      },
      "outputs": [],
      "source": [
        "#mode\n",
        "# r for read\n",
        "# w for write file, if a file not in the directory it will create and enable writing\n",
        "# a for append mode\n",
        "# r+ both read and writing\n",
        "# x for creating file"
      ]
    },
    {
      "cell_type": "code",
      "source": [
        "myfile=open(\"file.txt\",\"w\")"
      ],
      "metadata": {
        "id": "CapAJbxkG5SJ"
      },
      "execution_count": null,
      "outputs": []
    },
    {
      "cell_type": "code",
      "source": [
        "myfile.write(\"Hello\")"
      ],
      "metadata": {
        "colab": {
          "base_uri": "https://localhost:8080/"
        },
        "id": "9FLK4cg0HZfu",
        "outputId": "fb0e2262-bd89-416c-aa95-a16fa8ea0132"
      },
      "execution_count": null,
      "outputs": [
        {
          "output_type": "execute_result",
          "data": {
            "text/plain": [
              "5"
            ]
          },
          "metadata": {},
          "execution_count": 4
        }
      ]
    },
    {
      "cell_type": "code",
      "source": [
        "# to see the file contect we have to close the file\n",
        "#and refresh the file directory and then ope the file from the directory\n",
        "myfile.close()"
      ],
      "metadata": {
        "id": "AOW2kusaHtmu"
      },
      "execution_count": null,
      "outputs": []
    },
    {
      "cell_type": "code",
      "source": [
        "#file attributes\n",
        "myfile.closed # to check is file is closed or not"
      ],
      "metadata": {
        "colab": {
          "base_uri": "https://localhost:8080/"
        },
        "id": "YEb0IzNAITU1",
        "outputId": "dd5e2eaa-3407-41c8-ade4-df236f8ee114"
      },
      "execution_count": null,
      "outputs": [
        {
          "output_type": "execute_result",
          "data": {
            "text/plain": [
              "True"
            ]
          },
          "metadata": {},
          "execution_count": 7
        }
      ]
    },
    {
      "cell_type": "code",
      "source": [
        "#check file name\n",
        "myfile.name"
      ],
      "metadata": {
        "colab": {
          "base_uri": "https://localhost:8080/",
          "height": 36
        },
        "id": "tc2RWubUJMXG",
        "outputId": "16b0accb-4f6b-44b9-ab42-3539b3d145fc"
      },
      "execution_count": null,
      "outputs": [
        {
          "output_type": "execute_result",
          "data": {
            "text/plain": [
              "'file.txt'"
            ],
            "application/vnd.google.colaboratory.intrinsic+json": {
              "type": "string"
            }
          },
          "metadata": {},
          "execution_count": 8
        }
      ]
    },
    {
      "cell_type": "code",
      "source": [
        "#checking file mode\n",
        "myfile.mode"
      ],
      "metadata": {
        "colab": {
          "base_uri": "https://localhost:8080/",
          "height": 36
        },
        "id": "xcsksf24JgFd",
        "outputId": "b6fe17f1-22c6-4b3d-882f-a2c71789a925"
      },
      "execution_count": null,
      "outputs": [
        {
          "output_type": "execute_result",
          "data": {
            "text/plain": [
              "'w'"
            ],
            "application/vnd.google.colaboratory.intrinsic+json": {
              "type": "string"
            }
          },
          "metadata": {},
          "execution_count": 9
        }
      ]
    },
    {
      "cell_type": "code",
      "source": [
        "#writing again in the same file but it will delete all earlier data and write new content\n",
        "myfile=open(\"file.txt\",\"w\")\n",
        "myfile.write(\"Hi\\n\")\n",
        "myfile.write(\"How are you\\n\")\n",
        "myfile.write(\"I am fine\\n\")\n",
        "myfile.write(\"That's great\\n\")\n",
        "myfile.close()\n"
      ],
      "metadata": {
        "id": "kRJyZ0OuJqIF"
      },
      "execution_count": null,
      "outputs": []
    },
    {
      "cell_type": "code",
      "source": [
        "# to avoid data loose we should always open a file in append mode where all earlier content will not be deleted\n",
        "# and we will also able to write data\n",
        "myfile=open(\"file.txt\",\"a\")\n",
        "myfile.write(\"6th line\\n\")\n",
        "myfile.close()\n"
      ],
      "metadata": {
        "id": "LG13_QvkLbWO"
      },
      "execution_count": null,
      "outputs": []
    },
    {
      "cell_type": "code",
      "source": [
        "# to read the content in file\n",
        "myfile=open(\"file.txt\",\"r\")\n",
        "for i in myfile:\n",
        "  print(i)\n",
        "myfile.close()"
      ],
      "metadata": {
        "colab": {
          "base_uri": "https://localhost:8080/"
        },
        "id": "WNTVDy8yMlU-",
        "outputId": "127315fa-d6b6-4dfe-efa0-6a30a639f9ac"
      },
      "execution_count": null,
      "outputs": [
        {
          "output_type": "stream",
          "name": "stdout",
          "text": [
            "Hi\n",
            "\n",
            "How are you\n",
            "\n",
            "I am fine\n",
            "\n",
            "That's great\n",
            "\n",
            "6th line\n",
            "\n"
          ]
        }
      ]
    },
    {
      "cell_type": "code",
      "source": [
        "myfile.seek # it will bring the cursor to the start of the file"
      ],
      "metadata": {
        "colab": {
          "base_uri": "https://localhost:8080/"
        },
        "id": "Aa2y9CPvNUcF",
        "outputId": "4f5775ab-559d-41d6-c5c9-796493896460"
      },
      "execution_count": null,
      "outputs": [
        {
          "output_type": "execute_result",
          "data": {
            "text/plain": [
              "<function TextIOWrapper.seek(cookie, whence=0, /)>"
            ]
          },
          "metadata": {},
          "execution_count": 24
        }
      ]
    },
    {
      "cell_type": "code",
      "source": [
        "myfile.tell #it tell us the current position of the cursor"
      ],
      "metadata": {
        "colab": {
          "base_uri": "https://localhost:8080/"
        },
        "id": "y89Dldc3PYwP",
        "outputId": "bebd5708-0365-4d13-9004-32996751f2c4"
      },
      "execution_count": null,
      "outputs": [
        {
          "output_type": "execute_result",
          "data": {
            "text/plain": [
              "<function TextIOWrapper.tell()>"
            ]
          },
          "metadata": {},
          "execution_count": 25
        }
      ]
    },
    {
      "cell_type": "code",
      "source": [
        "myfile=open(\"file.txt\",\"r\")\n",
        "print(myfile.readline())#it will only read the first line\n",
        "myfile.close()"
      ],
      "metadata": {
        "colab": {
          "base_uri": "https://localhost:8080/"
        },
        "id": "0RkOyjSZSChh",
        "outputId": "08f319ae-714f-4f92-8144-b81678b6f879"
      },
      "execution_count": null,
      "outputs": [
        {
          "output_type": "stream",
          "name": "stdout",
          "text": [
            "Hi\n",
            "\n"
          ]
        }
      ]
    },
    {
      "cell_type": "code",
      "source": [
        "#now reading the file without loop\n",
        "myfile=open(\"file.txt\",\"r\")\n",
        "myfile.seek(0)# it will bring the cursor to the start of the file\n",
        "print(myfile.read())# it will read every line\n",
        "myfile.close()\n",
        "\n",
        "\n"
      ],
      "metadata": {
        "colab": {
          "base_uri": "https://localhost:8080/"
        },
        "id": "ezyBNwCgPkzd",
        "outputId": "b1bef06b-a0ea-40c3-c22d-8eeea3d9b987"
      },
      "execution_count": null,
      "outputs": [
        {
          "output_type": "stream",
          "name": "stdout",
          "text": [
            "Hi\n",
            "How are you\n",
            "I am fine\n",
            "That's great\n",
            "6th line\n",
            "\n"
          ]
        }
      ]
    },
    {
      "cell_type": "code",
      "source": [
        "myfile=open(\"file.txt\",\"r\")\n",
        "print(myfile.readlines())#all the lines come inside a list\n",
        "myfile.close()"
      ],
      "metadata": {
        "colab": {
          "base_uri": "https://localhost:8080/"
        },
        "id": "bqByb0LSQO-W",
        "outputId": "bbe14d4e-ee91-4b59-c35f-81e119b004b4"
      },
      "execution_count": null,
      "outputs": [
        {
          "output_type": "stream",
          "name": "stdout",
          "text": [
            "['Hi\\n', 'How are you\\n', 'I am fine\\n', \"That's great\\n\", '6th line\\n']\n"
          ]
        }
      ]
    },
    {
      "cell_type": "code",
      "source": [
        "#know the path of directory\n",
        "import os\n",
        "os.getcwd()"
      ],
      "metadata": {
        "colab": {
          "base_uri": "https://localhost:8080/",
          "height": 36
        },
        "id": "zAowboD_SaKF",
        "outputId": "02bb00c0-9e2f-438e-ace5-0ce5a4715f90"
      },
      "execution_count": null,
      "outputs": [
        {
          "output_type": "execute_result",
          "data": {
            "text/plain": [
              "'/content'"
            ],
            "application/vnd.google.colaboratory.intrinsic+json": {
              "type": "string"
            }
          },
          "metadata": {},
          "execution_count": 31
        }
      ]
    },
    {
      "cell_type": "code",
      "source": [
        "ls"
      ],
      "metadata": {
        "colab": {
          "base_uri": "https://localhost:8080/"
        },
        "id": "C-XhVgQDVQse",
        "outputId": "5f3e582e-4756-4705-ec02-5c05778099a9"
      },
      "execution_count": null,
      "outputs": [
        {
          "output_type": "stream",
          "name": "stdout",
          "text": [
            "file.txt  \u001b[0m\u001b[01;34msample_data\u001b[0m/\n"
          ]
        }
      ]
    },
    {
      "cell_type": "code",
      "source": [
        "#know the file size\n",
        "os.path.getsize(\"file.txt\")"
      ],
      "metadata": {
        "colab": {
          "base_uri": "https://localhost:8080/"
        },
        "id": "G6-PefpIVbjF",
        "outputId": "65ee4e24-536e-4d2a-db47-44a777440b7e"
      },
      "execution_count": null,
      "outputs": [
        {
          "output_type": "execute_result",
          "data": {
            "text/plain": [
              "47"
            ]
          },
          "metadata": {},
          "execution_count": 33
        }
      ]
    },
    {
      "cell_type": "code",
      "source": [
        "#making a directory\n",
        "os.mkdir(\"Test\")"
      ],
      "metadata": {
        "id": "8v8fL3LpVjjF"
      },
      "execution_count": null,
      "outputs": []
    },
    {
      "cell_type": "code",
      "source": [
        "#making file inside directory\n",
        "os.mkdir(\"Test/Subtest\")"
      ],
      "metadata": {
        "id": "S55RI5CWVsNV"
      },
      "execution_count": null,
      "outputs": []
    },
    {
      "cell_type": "code",
      "source": [
        "#making multiple directories\n",
        "os.makedirs(\"1/2/3/4/5/6/7\")"
      ],
      "metadata": {
        "id": "RTw0isVJWBO1"
      },
      "execution_count": null,
      "outputs": []
    },
    {
      "cell_type": "code",
      "source": [
        "#to see directories\n",
        "os.listdir()"
      ],
      "metadata": {
        "colab": {
          "base_uri": "https://localhost:8080/"
        },
        "id": "po0kvyotWUsF",
        "outputId": "0e74adaf-443d-43ef-a1fe-a9dd0e21b279"
      },
      "execution_count": null,
      "outputs": [
        {
          "output_type": "execute_result",
          "data": {
            "text/plain": [
              "['.config', '1', 'file.txt', 'Test', 'sample_data']"
            ]
          },
          "metadata": {},
          "execution_count": 37
        }
      ]
    },
    {
      "cell_type": "code",
      "source": [
        "#deleting a directory which does not have any sub directory\n",
        "os.rmdir(\"Test/Subtest\")# here it will delete 1st sub directory"
      ],
      "metadata": {
        "id": "Q1xDbCQBWgmv"
      },
      "execution_count": null,
      "outputs": []
    },
    {
      "cell_type": "code",
      "source": [
        "# delete non empty directory\n",
        "import shutil\n",
        "shutil.rmtree(\"1\")"
      ],
      "metadata": {
        "id": "fwumXwJBXIGt"
      },
      "execution_count": null,
      "outputs": []
    },
    {
      "cell_type": "code",
      "source": [
        "os.getcwd()"
      ],
      "metadata": {
        "colab": {
          "base_uri": "https://localhost:8080/",
          "height": 36
        },
        "id": "wqEkUJSbX0MN",
        "outputId": "aeda3101-80c7-4104-db67-234c0963922f"
      },
      "execution_count": null,
      "outputs": [
        {
          "output_type": "execute_result",
          "data": {
            "text/plain": [
              "'/content'"
            ],
            "application/vnd.google.colaboratory.intrinsic+json": {
              "type": "string"
            }
          },
          "metadata": {},
          "execution_count": 45
        }
      ]
    },
    {
      "cell_type": "code",
      "source": [
        "os.makedirs(\"test/test1\")"
      ],
      "metadata": {
        "id": "a49XiwGsX-TV"
      },
      "execution_count": null,
      "outputs": []
    },
    {
      "cell_type": "code",
      "source": [
        "#creating a file inside test1 folder\n",
        "f=open(\"test/test1/test2.txt\",\"w\")\n",
        "f.close()"
      ],
      "metadata": {
        "id": "wOmocWzgYMcG"
      },
      "execution_count": null,
      "outputs": []
    },
    {
      "cell_type": "code",
      "source": [
        "os.makedirs(\"copy\")"
      ],
      "metadata": {
        "id": "Bn6vB5WSYflV"
      },
      "execution_count": null,
      "outputs": []
    },
    {
      "cell_type": "code",
      "source": [
        "#copying file one location to another location\n",
        "shutil.copy(\"test/test1/test2.txt\",\"copy\")"
      ],
      "metadata": {
        "colab": {
          "base_uri": "https://localhost:8080/",
          "height": 36
        },
        "id": "o4rzZRDQYv-1",
        "outputId": "bdb22c94-6047-4545-d6d6-3b9c4232bccf"
      },
      "execution_count": null,
      "outputs": [
        {
          "output_type": "execute_result",
          "data": {
            "text/plain": [
              "'copy/test2.txt'"
            ],
            "application/vnd.google.colaboratory.intrinsic+json": {
              "type": "string"
            }
          },
          "metadata": {},
          "execution_count": 49
        }
      ]
    },
    {
      "cell_type": "code",
      "source": [
        "os.mkdir(\"move\")"
      ],
      "metadata": {
        "id": "Xe6-zZ94Zuqx"
      },
      "execution_count": null,
      "outputs": []
    },
    {
      "cell_type": "code",
      "source": [
        "#move a file\n",
        "shutil.move(\"copy/test2.txt\",\"move\")"
      ],
      "metadata": {
        "colab": {
          "base_uri": "https://localhost:8080/",
          "height": 36
        },
        "id": "4X4nJ5NrZUyF",
        "outputId": "a6232e48-fcf1-4511-a914-baddba3a54e3"
      },
      "execution_count": null,
      "outputs": [
        {
          "output_type": "execute_result",
          "data": {
            "text/plain": [
              "'move/test2.txt'"
            ],
            "application/vnd.google.colaboratory.intrinsic+json": {
              "type": "string"
            }
          },
          "metadata": {},
          "execution_count": 51
        }
      ]
    },
    {
      "cell_type": "code",
      "source": [
        "#way to write file where we dont need to close the file, keep reading\n",
        "with open(\"file.txt\",\"w\") as f:\n",
        "  f.write(\"John: Hello Raj\\n\")\n",
        "  f.write(\"John: How are you\\n\")\n",
        "  f.write(\"Raj: I am fine\\n\")"
      ],
      "metadata": {
        "id": "skoV0jIZZ3ll"
      },
      "execution_count": null,
      "outputs": []
    },
    {
      "cell_type": "code",
      "source": [
        "#reading the file\n",
        "with open(\"file.txt\",\"r\") as f:\n",
        "  f.seek(0)\n",
        "  print(f.read())\n"
      ],
      "metadata": {
        "colab": {
          "base_uri": "https://localhost:8080/"
        },
        "id": "NxRHmAFebAmt",
        "outputId": "ca40d440-371b-47e5-e3eb-8e9712f863f7"
      },
      "execution_count": null,
      "outputs": [
        {
          "output_type": "stream",
          "name": "stdout",
          "text": [
            "John: Hello Raj\n",
            "John: How are you\n",
            "Raj: I am fine\n",
            "\n"
          ]
        }
      ]
    },
    {
      "cell_type": "code",
      "source": [
        "#making csv file\n",
        "import csv\n",
        "\n",
        "# Sample data - Replace with your actual data\n",
        "data = [\n",
        "    [\"Name\", \"Age\", \"City\"],\n",
        "    [\"John Doe\", 30, \"New York\"],\n",
        "    [\"Jane Smith\", 25, \"London\"],\n",
        "]\n",
        "\n",
        "with open(\"example_csv.csv\", \"w\", newline=\"\") as f:\n",
        "    w = csv.writer(f)\n",
        "    for i in data:\n",
        "        w.writerow(i)"
      ],
      "metadata": {
        "id": "4vmxUXR2bWAd"
      },
      "execution_count": 2,
      "outputs": []
    },
    {
      "cell_type": "code",
      "source": [
        "#reading csv file\n",
        "with open(\"example_csv.csv\",\"r\") as f:\n",
        "  r=csv.reader(f)\n",
        "  for i in r:\n",
        "    print(i)"
      ],
      "metadata": {
        "colab": {
          "base_uri": "https://localhost:8080/"
        },
        "id": "67SZFyaTFAok",
        "outputId": "c2ecafc7-8e24-4052-978f-019a678e4a87"
      },
      "execution_count": 3,
      "outputs": [
        {
          "output_type": "stream",
          "name": "stdout",
          "text": [
            "['Name', 'Age', 'City']\n",
            "['John Doe', '30', 'New York']\n",
            "['Jane Smith', '25', 'London']\n"
          ]
        }
      ]
    },
    {
      "cell_type": "code",
      "source": [
        "#JSON >> Javascript object notation\n",
        "import json\n",
        "data={\"name\":\"John\",\"age\":30,\"city\":\"New York\"}\n",
        "with open(\"data.json\",\"w\") as f:\n",
        "  json.dump(data,f)"
      ],
      "metadata": {
        "id": "453_5dDkFnl6"
      },
      "execution_count": 4,
      "outputs": []
    },
    {
      "cell_type": "code",
      "source": [
        "#reading json file\n",
        "with open(\"data.json\",\"r\") as f:\n",
        "  print(json.load(f))"
      ],
      "metadata": {
        "colab": {
          "base_uri": "https://localhost:8080/"
        },
        "id": "G37Nem9HGnWz",
        "outputId": "56c01f65-f8f9-4d46-aeac-26f20177d417"
      },
      "execution_count": 5,
      "outputs": [
        {
          "output_type": "stream",
          "name": "stdout",
          "text": [
            "{'name': 'John', 'age': 30, 'city': 'New York'}\n"
          ]
        }
      ]
    },
    {
      "cell_type": "code",
      "source": [
        "# write a binary data in a file\n",
        "with open(\"binary.bin\",\"wb\") as f:\n",
        "  f.write(b\"\\x48\\x65\\x6c\\x6c\\x6f\")"
      ],
      "metadata": {
        "id": "dV1VjSnZGz0K"
      },
      "execution_count": 11,
      "outputs": []
    },
    {
      "cell_type": "code",
      "source": [
        "#read a binary file\n",
        "with open(\"binary.bin\",\"rb\") as f:\n",
        "  print(f.read())"
      ],
      "metadata": {
        "colab": {
          "base_uri": "https://localhost:8080/"
        },
        "id": "zGyPa3AKHcPC",
        "outputId": "fc6f82f3-91ec-4433-b565-56ce2e9b8037"
      },
      "execution_count": 12,
      "outputs": [
        {
          "output_type": "stream",
          "name": "stdout",
          "text": [
            "b'Hello'\n"
          ]
        }
      ]
    },
    {
      "cell_type": "code",
      "source": [
        "#Buffer reading and writing\n",
        "#it allows the program to read and write data in chunks\n",
        "import io\n",
        "with open(\"test_buf.txt\",\"wb\") as f:\n",
        "  file=io.BufferedWriter(f)\n",
        "  file.write(b\"Data is written in buffer1\\n\")\n",
        "  file.write(b\"Data is written in buffer2\\n\")\n",
        "  file.write(b\"Data is written in buffer3\\n\")\n",
        "  file.flush()"
      ],
      "metadata": {
        "id": "eZlMzsU1JTjp"
      },
      "execution_count": 13,
      "outputs": []
    },
    {
      "cell_type": "code",
      "source": [
        "#Buffer reading\n",
        "with open(\"test_buf.txt\",\"rb\") as f:\n",
        "  file=io.BufferedReader(f)\n",
        "  data=file.read(100)# Read the fisrt chunk of 100 bytes\n",
        "  print(data)"
      ],
      "metadata": {
        "colab": {
          "base_uri": "https://localhost:8080/"
        },
        "id": "qt0RmaMrKD6C",
        "outputId": "55a57c3c-4828-432d-bb78-837119f5eea6"
      },
      "execution_count": 17,
      "outputs": [
        {
          "output_type": "stream",
          "name": "stdout",
          "text": [
            "b'Data is written in buffer1\\nData is written in buffer2\\nData is written in buffer3\\n'\n"
          ]
        }
      ]
    },
    {
      "cell_type": "code",
      "source": [
        "#Exceptions handling"
      ],
      "metadata": {
        "id": "O2MTsInzKeYS"
      },
      "execution_count": null,
      "outputs": []
    },
    {
      "cell_type": "code",
      "source": [],
      "metadata": {
        "id": "hFZWjDgkOZkc"
      },
      "execution_count": null,
      "outputs": []
    }
  ]
}